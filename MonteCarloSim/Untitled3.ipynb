{
 "cells": [
  {
   "cell_type": "code",
   "execution_count": 1,
   "metadata": {},
   "outputs": [],
   "source": [
    "import numpy as np\n",
    "import matplotlib.pyplot as plt\n",
    "import os\n",
    "import csv\n",
    "import argparse as ap\n",
    "from scipy.fftpack import fft as fft\n",
    "from scipy.fftpack import fftfreq as fftfreq\n",
    "import matplotlib.animation as manimation\n",
    "\n",
    "plt.rc('text', usetex=True)"
   ]
  },
  {
   "cell_type": "code",
   "execution_count": 2,
   "metadata": {},
   "outputs": [],
   "source": [
    "tmp = np.genfromtxt(\"data/reactionRateData/rate_0/run_0/density_5000.csv\", delimiter=',')"
   ]
  },
  {
   "cell_type": "code",
   "execution_count": 3,
   "metadata": {},
   "outputs": [
    {
     "data": {
      "text/plain": [
       "(3, 512)"
      ]
     },
     "execution_count": 3,
     "metadata": {},
     "output_type": "execute_result"
    }
   ],
   "source": [
    "tmp.shape"
   ]
  },
  {
   "cell_type": "code",
   "execution_count": 4,
   "metadata": {},
   "outputs": [],
   "source": [
    "array = np.zeros(4)\n",
    "for i in range(0, 4):\n",
    "    for j in range (0, 25):\n",
    "        tmp = np.genfromtxt(\"data/reactionRateData/rate_{}/run_{}/density_5000.csv\".format(i,j), delimiter=',')[:, 64:68]\n",
    "        sum_down = tmp.sum(axis=0)\n",
    "        array[i] += np.mean(sum_down)\n",
    "array = array / 25"
   ]
  },
  {
   "cell_type": "code",
   "execution_count": 5,
   "metadata": {},
   "outputs": [
    {
     "data": {
      "text/plain": [
       "array([0.77748055, 0.78828127, 0.78835937, 0.80269534])"
      ]
     },
     "execution_count": 5,
     "metadata": {},
     "output_type": "execute_result"
    }
   ],
   "source": [
    "array"
   ]
  },
  {
   "cell_type": "code",
   "execution_count": 6,
   "metadata": {},
   "outputs": [],
   "source": [
    "rates = np.array([0.1, 2.5, 5.0, 10.0])"
   ]
  },
  {
   "cell_type": "code",
   "execution_count": 7,
   "metadata": {},
   "outputs": [
    {
     "data": {
      "text/plain": [
       "[<matplotlib.lines.Line2D at 0x7feb00c18b70>]"
      ]
     },
     "execution_count": 7,
     "metadata": {},
     "output_type": "execute_result"
    },
    {
     "data": {
      "image/png": "[encoded data removed]",
      "text/plain": [
       "<Figure size 432x288 with 1 Axes>"
      ]
     },
     "metadata": {},
     "output_type": "display_data"
    }
   ],
   "source": [
    "fig1, ax1 = plt.subplots(facecolor=\"white\")\n",
    "ax1.plot(rates, array)"
   ]
  },
  {
   "cell_type": "code",
   "execution_count": 8,
   "metadata": {},
   "outputs": [],
   "source": [
    "binned_births = np.zeros(4)\n",
    "for i in range(0, 4):\n",
    "    for j in range (0, 25):\n",
    "        tmp1 = np.genfromtxt(\"data/reactionRateData/rate_{}/run_{}/binned_birth_counts_5000.csv\".format(i,j), delimiter=',')\n",
    "        tmp2 = np.genfromtxt(\"data/reactionRateData/rate_{}/run_{}/binned_birth_counts_5010.csv\".format(i,j), delimiter=',')\n",
    "        tmp3 = (tmp2-tmp1)/10        \n",
    "        sum_down = tmp3.sum(axis=0)\n",
    "        binned_births[i] += sum_down[17]\n",
    "binned_births = binned_births / 25"
   ]
  },
  {
   "cell_type": "code",
   "execution_count": 14,
   "metadata": {},
   "outputs": [],
   "source": [
    "binned_deaths = np.zeros(4)\n",
    "for i in range(0, 4):\n",
    "    for j in range (0, 25):\n",
    "        tmp1 = np.genfromtxt(\"data/reactionRateData/rate_{}/run_{}/binned_death_counts_5000.csv\".format(i,j), delimiter=',')\n",
    "        tmp2 = np.genfromtxt(\"data/reactionRateData/rate_{}/run_{}/binned_death_counts_5010.csv\".format(i,j), delimiter=',')\n",
    "        tmp3 = (tmp2-tmp1)/10        \n",
    "        sum_down = tmp3.sum(axis=0)\n",
    "        binned_deaths[i] += sum_down[17]\n",
    "binned_deaths = binned_deaths / 25"
   ]
  },
  {
   "cell_type": "code",
   "execution_count": 15,
   "metadata": {},
   "outputs": [],
   "source": [
    "binned_deaths2 = np.zeros(4)\n",
    "for i in range(0, 4):\n",
    "    for j in range (0, 25):\n",
    "        tmp1 = np.genfromtxt(\"data/reactionRateData/rate_{}/run_{}/binned_death_counts_5000.csv\".format(i,j), delimiter=',')\n",
    "        tmp2 = np.genfromtxt(\"data/reactionRateData/rate_{}/run_{}/binned_death_counts_5010.csv\".format(i,j), delimiter=',')\n",
    "        tmp3 = (tmp2-tmp1)/10        \n",
    "        sum_down = tmp3.sum(axis=0)\n",
    "        binned_deaths2[i] += sum_down[65]\n",
    "binned_deaths2 = binned_deaths2 / 25"
   ]
  },
  {
   "cell_type": "code",
   "execution_count": 10,
   "metadata": {},
   "outputs": [],
   "source": [
    "binned_hops = np.zeros(4)\n",
    "for i in range(0, 4):\n",
    "    for j in range (0, 25):\n",
    "        tmp1 = np.genfromtxt(\"data/reactionRateData/rate_{}/run_{}/binned_diffusion_counts_5000.csv\".format(i,j), delimiter=',')\n",
    "        tmp2 = np.genfromtxt(\"data/reactionRateData/rate_{}/run_{}/binned_diffusion_counts_5010.csv\".format(i,j), delimiter=',')\n",
    "        tmp3 = (tmp2-tmp1)/10        \n",
    "        sum_down = tmp3.sum(axis=0)\n",
    "        binned_hops[i] += sum_down[17]\n",
    "binned_hops = binned_hops / 25"
   ]
  },
  {
   "cell_type": "code",
   "execution_count": 21,
   "metadata": {},
   "outputs": [],
   "source": [
    "binned_reactions = binned_births + binned_deaths + binned_hops"
   ]
  },
  {
   "cell_type": "code",
   "execution_count": 16,
   "metadata": {},
   "outputs": [
    {
     "data": {
      "text/plain": [
       "[<matplotlib.lines.Line2D at 0x7feb00971908>]"
      ]
     },
     "execution_count": 16,
     "metadata": {},
     "output_type": "execute_result"
    },
    {
     "data": {
      "image/png": "[encoded data removed]",
      "text/plain": [
       "<Figure size 432x288 with 1 Axes>"
      ]
     },
     "metadata": {},
     "output_type": "display_data"
    }
   ],
   "source": [
    "fig2, ax2 = plt.subplots(facecolor=\"white\")\n",
    "ax2.plot(rates, binned_deaths)\n",
    "ax2.plot(rates, binned_deaths2)"
   ]
  },
  {
   "cell_type": "code",
   "execution_count": null,
   "metadata": {},
   "outputs": [],
   "source": []
  }
 ],
 "metadata": {
  "kernelspec": {
   "display_name": "Python 3",
   "language": "python",
   "name": "python3"
  },
  "language_info": {
   "codemirror_mode": {
    "name": "ipython",
    "version": 3
   },
   "file_extension": ".py",
   "mimetype": "text/x-python",
   "name": "python",
   "nbconvert_exporter": "python",
   "pygments_lexer": "ipython3",
   "version": "3.7.2"
  }
 },
 "nbformat": 4,
 "nbformat_minor": 2
}
