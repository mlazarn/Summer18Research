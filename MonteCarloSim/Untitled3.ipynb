{
 "cells": [
  {
   "cell_type": "code",
   "execution_count": 1,
   "metadata": {},
   "outputs": [],
   "source": [
    "import numpy as np\n",
    "import matplotlib.pyplot as plt\n",
    "import os\n",
    "import csv\n",
    "import argparse as ap\n",
    "from scipy.fftpack import fft as fft\n",
    "from scipy.fftpack import fftfreq as fftfreq\n",
    "import matplotlib.animation as manimation\n",
    "\n",
    "plt.rc('text', usetex=True)"
   ]
  },
  {
   "cell_type": "code",
   "execution_count": 3,
   "metadata": {},
   "outputs": [],
   "source": [
    "tmp = np.genfromtxt(\"data/reactionRateData2/rate_0/run_0/density_2500.csv\", delimiter=',')"
   ]
  },
  {
   "cell_type": "code",
   "execution_count": 3,
   "metadata": {},
   "outputs": [
    {
     "data": {
      "text/plain": [
       "(3, 512)"
      ]
     },
     "execution_count": 3,
     "metadata": {},
     "output_type": "execute_result"
    }
   ],
   "source": [
    "tmp.shape"
   ]
  },
  {
   "cell_type": "code",
   "execution_count": 27,
   "metadata": {},
   "outputs": [],
   "source": [
    "array1 = np.zeros(4)\n",
    "array2 = np.zeros(4)\n",
    "for i in range(0, 4):\n",
    "    for j in range (0, 11):\n",
    "        for k in range (2500, 3500, 10):\n",
    "            tmp = np.genfromtxt(\"data/reactionRateData2/rate_{}/run_{}/density_{}.csv\".format(i,j,k), delimiter=',')\n",
    "            tmp1 = tmp[:, 64:68]\n",
    "            tmp2 = tmp[:, 256:260]\n",
    "            sum_down1 = tmp1.sum(axis=0)\n",
    "            sum_down2 = tmp2.sum(axis=0)\n",
    "            array1[i] += np.mean(sum_down1) \n",
    "            array2[i] += np.mean(sum_down2)\n",
    "\n",
    "array1 = array1 / 1000\n",
    "array2 = array2 / 1000"
   ]
  },
  {
   "cell_type": "code",
   "execution_count": 29,
   "metadata": {},
   "outputs": [],
   "source": [
    "rates = np.array([0.1, 2.5, 5.0, 10.0])"
   ]
  },
  {
   "cell_type": "code",
   "execution_count": 63,
   "metadata": {},
   "outputs": [
    {
     "data": {
      "image/png": "[encoded data removed]",
      "text/plain": [
       "<Figure size 432x288 with 1 Axes>"
      ]
     },
     "metadata": {},
     "output_type": "display_data"
    }
   ],
   "source": [
    "fig1, ax1 = plt.subplots(facecolor=\"white\")\n",
    "ax1.plot(rates, array1, marker=\"o\", label=r'Near interface: $64 \\leq x < 68$')\n",
    "ax1.plot(rates, array2, marker=\"o\", label=r'May-Leonard bulk: $256 \\leq x < 260$')\n",
    "ax1.set_xlabel(r'$\\epsilon_r$')\n",
    "ax1.set_ylabel(r'Vertical population density')\n",
    "ax1.axhline(0.75, linestyle='--', color='k', label=\"Mean-field density\")\n",
    "ax1.set_ylim(bottom=0, top=1)\n",
    "ax1.legend()\n",
    "plt.savefig(\"density.png\")"
   ]
  },
  {
   "cell_type": "code",
   "execution_count": 56,
   "metadata": {},
   "outputs": [],
   "source": [
    "binned_births1 = np.zeros(4)\n",
    "binned_births2 = np.zeros(4)\n",
    "for i in range(0, 4):\n",
    "    for j in range (0, 11):\n",
    "        for k in range (2500, 3500, 10):\n",
    "            tmp1 = np.genfromtxt(\"data/reactionRateData2/rate_{}/run_{}/binned_birth_counts_{}.csv\".format(i,j,k), delimiter=',')\n",
    "            sum_down = tmp1.sum(axis=0)\n",
    "            binned_births1[i] += sum_down[17]\n",
    "            binned_births2[i] += sum_down[65]\n",
    "\n",
    "binned_births1 = binned_births1 / 4000\n",
    "binned_births2 = binned_births2 / 4000"
   ]
  },
  {
   "cell_type": "code",
   "execution_count": 57,
   "metadata": {},
   "outputs": [],
   "source": [
    "binned_deaths1 = np.zeros(4)\n",
    "binned_deaths2 = np.zeros(4)\n",
    "for i in range(0, 4):\n",
    "    for j in range (0, 11):\n",
    "        for k in range (2500, 3500, 10):\n",
    "            tmp1 = np.genfromtxt(\"data/reactionRateData2/rate_{}/run_{}/binned_birth_counts_{}.csv\".format(i,j,k), delimiter=',')\n",
    "            sum_down = tmp1.sum(axis=0)\n",
    "            binned_deaths1[i] += sum_down[17]\n",
    "            binned_deaths2[i] += sum_down[65]\n",
    "\n",
    "binned_deaths1 = binned_deaths1 / 4000\n",
    "binned_deaths2 = binned_deaths2 / 4000"
   ]
  },
  {
   "cell_type": "code",
   "execution_count": 10,
   "metadata": {},
   "outputs": [],
   "source": [
    "binned_hops = np.zeros(4)\n",
    "for i in range(0, 4):\n",
    "    for j in range (0, 25):\n",
    "        tmp1 = np.genfromtxt(\"data/reactionRateData/rate_{}/run_{}/binned_diffusion_counts_5000.csv\".format(i,j), delimiter=',')\n",
    "        tmp2 = np.genfromtxt(\"data/reactionRateData/rate_{}/run_{}/binned_diffusion_counts_5010.csv\".format(i,j), delimiter=',')\n",
    "        tmp3 = (tmp2-tmp1)/10        \n",
    "        sum_down = tmp3.sum(axis=0)\n",
    "        binned_hops[i] += sum_down[17]\n",
    "binned_hops = binned_hops / 25"
   ]
  },
  {
   "cell_type": "code",
   "execution_count": 59,
   "metadata": {},
   "outputs": [],
   "source": [
    "binned_reactions1 = binned_births1 + binned_deaths1 \n",
    "binned_reactions2 = binned_births2 + binned_deaths2 "
   ]
  },
  {
   "cell_type": "code",
   "execution_count": 65,
   "metadata": {},
   "outputs": [
    {
     "data": {
      "image/png": "[encoded data removed]",
      "text/plain": [
       "<Figure size 432x288 with 1 Axes>"
      ]
     },
     "metadata": {},
     "output_type": "display_data"
    }
   ],
   "source": [
    "fig2, ax2 = plt.subplots(facecolor=\"white\")\n",
    "ax2.plot(rates, binned_reactions1/512, marker=\"o\", label=r'Near interface: $64 \\leq x < 68$')\n",
    "ax2.plot(rates, binned_reactions2/512, marker=\"o\", label=r'May-Leonard bulk: $256 \\leq x < 260$')\n",
    "ax2.set_xlabel(r'$\\epsilon_r$')\n",
    "ax2.set_ylabel(r'Effective reaction rates')\n",
    "ax2.axhline((2.0)/7, linestyle='--', color='k', label=r\"Nominal reaction rate $ \\frac{\\mu + \\sigma}{\\mu + \\sigma + \\epsilon_m} $\")\n",
    "ax2.legend()\n",
    "ax2.set_ylim(bottom=0, top=1.0)\n",
    "plt.savefig(\"reaction_rates.png\")"
   ]
  },
  {
   "cell_type": "code",
   "execution_count": null,
   "metadata": {},
   "outputs": [],
   "source": []
  }
 ],
 "metadata": {
  "kernelspec": {
   "display_name": "Python 3",
   "language": "python",
   "name": "python3"
  },
  "language_info": {
   "codemirror_mode": {
    "name": "ipython",
    "version": 3
   },
   "file_extension": ".py",
   "mimetype": "text/x-python",
   "name": "python",
   "nbconvert_exporter": "python",
   "pygments_lexer": "ipython3",
   "version": "3.7.2"
  }
 },
 "nbformat": 4,
 "nbformat_minor": 2
}
