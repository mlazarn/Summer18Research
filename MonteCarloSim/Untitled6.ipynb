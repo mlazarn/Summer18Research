{
 "cells": [
  {
   "cell_type": "code",
   "execution_count": 2,
   "metadata": {},
   "outputs": [],
   "source": [
    "import numpy as np\n",
    "import matplotlib.pyplot as plt\n",
    "import os\n",
    "import csv\n",
    "import argparse as ap\n",
    "from scipy.fftpack import fft\n",
    "from scipy.fftpack import fftfreq\n",
    "from scipy.stats import linregress as linregress\n",
    "from scipy.signal import find_peaks as fpeaks\n",
    "from scipy.signal import peak_widths as peak_widthse\n",
    "from scipy.fftpack import fftshift\n",
    "from scipy import interpolate as spInt\n",
    "import matplotlib.animation as manimation\n",
    "\n",
    "plt.rc('text', usetex=True)"
   ]
  },
  {
   "cell_type": "code",
   "execution_count": 3,
   "metadata": {},
   "outputs": [],
   "source": [
    "data1 = np.genfromtxt(\"data/multiData1/rate_0/avg_auto_corr.csv\", delimiter=',')\n",
    "data2 = np.genfromtxt(\"data/multiData1/rate_1/avg_auto_corr.csv\", delimiter=',')\n",
    "data3 = np.genfromtxt(\"data/multiData1/rate_2/avg_auto_corr.csv\", delimiter=',')\n",
    "data4 = np.genfromtxt(\"data/multiData1/rate_3/avg_auto_corr.csv\", delimiter=',')\n",
    "data5 = np.genfromtxt(\"data/multiData1/rate_4/avg_auto_corr.csv\", delimiter=',')\n",
    "data6 = np.genfromtxt(\"data/multiData1/rate_5/avg_auto_corr.csv\", delimiter=',')\n",
    "data7 = np.genfromtxt(\"data/multiData1/rate_6/avg_auto_corr.csv\", delimiter=',')\n",
    "data8 = np.genfromtxt(\"data/multiData1/rate_7/avg_auto_corr.csv\", delimiter=',')"
   ]
  },
  {
   "cell_type": "code",
   "execution_count": 4,
   "metadata": {},
   "outputs": [
    {
     "data": {
      "text/plain": [
       "(512, 256)"
      ]
     },
     "execution_count": 4,
     "metadata": {},
     "output_type": "execute_result"
    }
   ],
   "source": [
    "data1.shape"
   ]
  },
  {
   "cell_type": "code",
   "execution_count": 5,
   "metadata": {},
   "outputs": [],
   "source": [
    "r = np.arange(data1.shape[-1])"
   ]
  },
  {
   "cell_type": "code",
   "execution_count": 185,
   "metadata": {},
   "outputs": [],
   "source": [
    "k = 180"
   ]
  },
  {
   "cell_type": "code",
   "execution_count": 186,
   "metadata": {},
   "outputs": [
    {
     "data": {
      "text/plain": [
       "<matplotlib.legend.Legend at 0x7f670bba37f0>"
      ]
     },
     "execution_count": 186,
     "metadata": {},
     "output_type": "execute_result"
    },
    {
     "data": {
      "image/png": "[encoded data removed]",
      "text/plain": [
       "<Figure size 432x288 with 1 Axes>"
      ]
     },
     "metadata": {},
     "output_type": "display_data"
    }
   ],
   "source": [
    "#data1[k, 0] = np.nan\n",
    "#data2[k, 0] = np.nan\n",
    "#data3[k, 0] = np.nan\n",
    "#data4[k, 0] = np.nan\n",
    "#r1 = r / 512\n",
    "#g1 = data1[k, 1]\n",
    "#g4 = data4[k,1]\n",
    "l1 = data5[k, 0]   \n",
    "l2 = data6[k, 0]   \n",
    "l3 = data7[k, 0]   \n",
    "l4 = data8[k, 0]\n",
    "fig1, ax1 = plt.subplots(facecolor=\"white\")\n",
    "ax1.plot(r[0:256], data5[k,0:256] / l1, label=r'$\\epsilon_r=5.0$')\n",
    "ax1.plot(r[0:256], data6[k,0:256] / l2, label=r'$\\epsilon_r=10.0$')\n",
    "ax1.plot(r[0:256], data7[k,0:256] / l3, label=r'$\\epsilon_r=100.0$')\n",
    "ax1.plot(r[0:256], data8[k,0:256] / l4, label=r'$\\epsilon_r=1000.0$')\n",
    "ax1.axvline(45, linestyle='--', color='k')\n",
    "ax1.axvline(35, linestyle='--', color='k')\n",
    "\n",
    "ax1.axhline(0.0, linestyle='--', color='k')\n",
    "ax1.axhline(data5[k, 1] * np.exp(-1), linestyle='--', color='b')\n",
    "#ax1.axhline(l2, linestyle='--', color='orange')\n",
    "ax1.axhline(data7[k, 1] * np.exp(-1), linestyle='--', color='g')\n",
    "#ax1.axhline(l4, linestyle='--', color='r')\n",
    "ax1.set_xlabel(r'$r$')\n",
    "ax1.set_ylabel(r'$\\langle C(r)\\rangle$')\n",
    "#ax1.set_xlim(left=0.0, right=0.3)\n",
    "#ax1.set_ylim(bottom=-0.02, top=0.22)\n",
    "ax1.legend(fontsize='large')"
   ]
  },
  {
   "cell_type": "code",
   "execution_count": 187,
   "metadata": {},
   "outputs": [
    {
     "data": {
      "text/plain": [
       "0.5156612516000125"
      ]
     },
     "execution_count": 187,
     "metadata": {},
     "output_type": "execute_result"
    }
   ],
   "source": [
    "np.sum(data8[k, :] / l4)"
   ]
  },
  {
   "cell_type": "code",
   "execution_count": 188,
   "metadata": {},
   "outputs": [],
   "source": [
    "w = fftfreq(256) "
   ]
  },
  {
   "cell_type": "code",
   "execution_count": 189,
   "metadata": {},
   "outputs": [],
   "source": [
    "k1 = 1\n",
    "k2 = 257\n",
    "F1 = np.abs(fft(data5[k, k1:k2]/ l1, 256)) * 2 / 256\n",
    "F2 = np.abs(fft(data6[k, k1:k2]/ l2, 256)) * 2 / 256\n",
    "F3 = np.abs(fft(data7[k, k1:k2]/ l3, 256)) * 2 / 256\n",
    "F4 = np.abs(fft(data8[k, k1:k2]/ l4, 256)) * 2 / 256\n",
    "#w[np.argmax(F1)]\n",
    "N = F1.shape[-1]"
   ]
  },
  {
   "cell_type": "code",
   "execution_count": 190,
   "metadata": {},
   "outputs": [
    {
     "data": {
      "text/plain": [
       "<matplotlib.legend.Legend at 0x7f670bb19780>"
      ]
     },
     "execution_count": 190,
     "metadata": {},
     "output_type": "execute_result"
    },
    {
     "data": {
      "image/png": "[encoded data removed]",
      "text/plain": [
       "<Figure size 432x288 with 1 Axes>"
      ]
     },
     "metadata": {},
     "output_type": "display_data"
    }
   ],
   "source": [
    "fig2, ax2 = plt.subplots(facecolor=\"white\")\n",
    "ax2.plot(w[0:N//2], F1[0:N//2], label=r'$\\epsilon_r=5.0$')\n",
    "ax2.plot(w[0:N//2], F2[0:N//2], label=r'$\\epsilon_r=10.0$')\n",
    "ax2.plot(w[0:N//2], F3[0:N//2], label=r'$\\epsilon_r=100.0$')\n",
    "ax2.plot(w[0:N//2], F4[0:N//2], label=r'$\\epsilon_r=1000.0$')\n",
    "ax2.axhline(0.0, linestyle='--')\n",
    "ax2.set_xlabel(r'$\\omega$')\n",
    "ax2.set_ylabel(r'$\\langle C(\\omega)\\rangle$')\n",
    "#ax2.set_ylim(bottom=-0.02, top=0.12)\n",
    "ax2.legend(fontsize='large')"
   ]
  },
  {
   "cell_type": "code",
   "execution_count": 191,
   "metadata": {},
   "outputs": [],
   "source": [
    "FF = fft(data5[k, k1:k2] / l1, 256) * 2 / 256\n",
    "FFA = np.abs(FF)\n",
    "FFR = np.real(FF)\n",
    "FFI = np.imag(FF)"
   ]
  },
  {
   "cell_type": "code",
   "execution_count": 192,
   "metadata": {},
   "outputs": [
    {
     "data": {
      "text/plain": [
       "<matplotlib.legend.Legend at 0x7f670ba8e6a0>"
      ]
     },
     "execution_count": 192,
     "metadata": {},
     "output_type": "execute_result"
    },
    {
     "data": {
      "image/png": "[encoded data removed]",
      "text/plain": [
       "<Figure size 432x288 with 1 Axes>"
      ]
     },
     "metadata": {},
     "output_type": "display_data"
    }
   ],
   "source": [
    "fig0, ax0 = plt.subplots(facecolor=\"white\")\n",
    "#ax0.plot(w[0:N//2], FFR[0:N//2], label=r'$\\Re f(\\omega)$')\n",
    "#ax0.plot(w[0:N//2], FFI[0:N//2], label=r'$\\Im f(\\omega)$')\n",
    "#ax0.plot(w[0:N//2], FFA[0:N//2], label=r'$|f(\\omega)|$')\n",
    "ax0.plot(fftshift(w), fftshift(FFR), label=r'$\\Re f(\\omega)$')\n",
    "ax0.plot(fftshift(w), fftshift(FFI), label=r'$\\Im f(\\omega)$')\n",
    "ax0.plot(fftshift(w), fftshift(FFA), label=r'$|f(\\omega)|$')\n",
    "ax0.axhline(0.0, linestyle='--')\n",
    "ax0.set_xlabel(r'$\\omega$')\n",
    "#ax0.set_ylabel(r'$\\langle C(\\omega)\\rangle$')\n",
    "#ax0.set_ylim(bottom=-0.02, top=0.12)\n",
    "ax0.legend(fontsize='large')"
   ]
  },
  {
   "cell_type": "code",
   "execution_count": 143,
   "metadata": {},
   "outputs": [],
   "source": [
    "G1 = (FFA - (np.max(FFA) / 2))[0:N//2]\n",
    "argmax1 = np.argmax(G1)\n",
    "spline1 = spInt.InterpolatedUnivariateSpline(w[0:N//2], G1)\n",
    "roots1 = spline1.roots()\n",
    "G2 = (FFR - (np.max(FFR) / 2))[0:N//2]\n",
    "argmax2 = np.argmax(G2)\n",
    "spline2 = spInt.InterpolatedUnivariateSpline(w[0:N//2], G2)\n",
    "roots2 = spline2.roots()\n",
    "G3 = (F3 - (np.max(F3) / 2))[0:N//2]\n",
    "argmax3 = np.argmax(G3)\n",
    "spline3 = spInt.InterpolatedUnivariateSpline(w[0:N//2], G3)\n",
    "roots3 = spline3.roots()\n",
    "G4 = (F4 - (np.max(F4) / 2))[0:N//2]\n",
    "argmax4 = np.argmax(G4)\n",
    "spline4 = spInt.InterpolatedUnivariateSpline(w[0:N//2], G4)\n",
    "roots4 = spline4.roots()"
   ]
  },
  {
   "cell_type": "code",
   "execution_count": 144,
   "metadata": {},
   "outputs": [
    {
     "name": "stdout",
     "output_type": "stream",
     "text": [
      "0.01235387064091884\n",
      "0.012645779409831026\n",
      "0.01826489112822888\n",
      "0.017965331805673522\n"
     ]
    }
   ],
   "source": [
    "print(roots1[-1])\n",
    "print(roots2[-1])\n",
    "print(roots3[-1])\n",
    "print(roots4[-1])"
   ]
  },
  {
   "cell_type": "code",
   "execution_count": 145,
   "metadata": {},
   "outputs": [
    {
     "data": {
      "text/plain": [
       "<matplotlib.legend.Legend at 0x7f670c3cc470>"
      ]
     },
     "execution_count": 145,
     "metadata": {},
     "output_type": "execute_result"
    },
    {
     "data": {
      "image/png": "[encoded data removed]",
      "text/plain": [
       "<Figure size 432x288 with 1 Axes>"
      ]
     },
     "metadata": {},
     "output_type": "display_data"
    }
   ],
   "source": [
    "fig3, ax3 = plt.subplots(facecolor=\"white\")\n",
    "ax3.plot(w[0:N//2], G1[0:N//2], label=r'$\\epsilon_r=5.0$')\n",
    "ax3.plot(w[0:N//2], G2[0:N//2], label=r'$\\epsilon_r=10.0$')\n",
    "ax3.plot(w[0:N//2], G3[0:N//2], label=r'$\\epsilon_r=100.0$')\n",
    "ax3.plot(w[0:N//2], G4[0:N//2], label=r'$\\epsilon_r=1000.0$')\n",
    "ax3.axhline(0.0, linestyle='--')\n",
    "ax3.set_xlabel(r'$\\omega$')\n",
    "ax3.set_ylabel(r'$\\langle C(\\omega)\\rangle$')\n",
    "#ax2.set_ylim(bottom=-0.02, top=0.12)\n",
    "ax3.legend(fontsize='large')"
   ]
  },
  {
   "cell_type": "code",
   "execution_count": 146,
   "metadata": {},
   "outputs": [],
   "source": [
    "try:\n",
    "    HWL1 = roots1[-2]\n",
    "    HWR1 = roots1[-1]\n",
    "    for j in range(roots1.shape[-1] - 1):\n",
    "        if roots1[j] < w[argmax1] and roots1[j+1] > w[argmax1]:\n",
    "            HWL1 = roots1[j]\n",
    "            HWR1 = roots1[j + 1]\n",
    "    FW1 = HWR1 - HWL1\n",
    "except IndexError:\n",
    "    FW1 = np.nan\n",
    "\n",
    "try:\n",
    "    HWL2 = roots2[-2]\n",
    "    HWR2 = roots2[-1]\n",
    "    for j in range(roots2.shape[-1] - 1):\n",
    "        if roots2[j] < w[argmax2] and roots2[j+1] > w[argmax2]:\n",
    "            HWL2 = roots2[j]\n",
    "            HWR2 = roots2[j + 1]\n",
    "    FW2 = HWR2 - HWL2\n",
    "except IndexError:\n",
    "    FW2 = np.nan\n",
    "    \n",
    "try:\n",
    "    HWL3 = roots3[-2]\n",
    "    HWR3 = roots3[-1]\n",
    "    for j in range(roots3.shape[-1] - 1):\n",
    "        if roots3[j] < w[argmax3] and roots3[j+1] > w[argmax3]:\n",
    "            HWL3 = roots3[j]\n",
    "            HWR3 = roots3[j + 1]\n",
    "    FW3 = HWR3 - HWL3\n",
    "except IndexError:\n",
    "    FW3 = np.nan\n",
    "\n",
    "try:\n",
    "    HWL4 = roots4[-2]\n",
    "    HWR4 = roots4[-1]\n",
    "    for j in range(roots4.shape[-1] - 1):\n",
    "        if roots4[j] < w[argmax4] and roots4[j+1] > w[argmax4]:\n",
    "            HWL4 = roots4[j]\n",
    "            HWR4 = roots4[j + 1]\n",
    "    FW4 = HWR4 - HWL4\n",
    "except IndexError:\n",
    "    FW4 = np.nan"
   ]
  },
  {
   "cell_type": "code",
   "execution_count": 147,
   "metadata": {},
   "outputs": [
    {
     "data": {
      "text/plain": [
       "0.017265474380680445"
      ]
     },
     "execution_count": 147,
     "metadata": {},
     "output_type": "execute_result"
    }
   ],
   "source": [
    "FW3"
   ]
  },
  {
   "cell_type": "code",
   "execution_count": 148,
   "metadata": {},
   "outputs": [],
   "source": [
    "L_1 = 1/FW1\n",
    "L_2 = 1/FW2\n",
    "L_3 = 1/FW3\n",
    "L_4 = 1/FW4"
   ]
  },
  {
   "cell_type": "code",
   "execution_count": 149,
   "metadata": {},
   "outputs": [],
   "source": [
    "max1 = np.max(F1)\n",
    "max2 = np.max(F2)\n",
    "max3 = np.max(F3)\n",
    "max4 = np.max(F4)"
   ]
  },
  {
   "cell_type": "code",
   "execution_count": 150,
   "metadata": {},
   "outputs": [],
   "source": [
    "rescale1 = data1[k,1]\n",
    "rescale2 = data2[k,1]\n",
    "rescale3 = data3[k,1]\n",
    "rescale4 = data4[k,1]"
   ]
  },
  {
   "cell_type": "code",
   "execution_count": 151,
   "metadata": {},
   "outputs": [],
   "source": [
    "L_1_r = L_1 * rescale1\n",
    "L_2_r = L_2 * rescale2\n",
    "L_3_r = L_3 * rescale3\n",
    "L_4_r = L_4 * rescale4"
   ]
  },
  {
   "cell_type": "code",
   "execution_count": 152,
   "metadata": {},
   "outputs": [
    {
     "name": "stdout",
     "output_type": "stream",
     "text": [
      "87.48000742040574\n",
      "85.50652228928271\n",
      "57.919057301951135\n",
      "59.42086196819384\n"
     ]
    }
   ],
   "source": [
    "print(L_1)\n",
    "print(L_2)\n",
    "print(L_3)\n",
    "print(L_4)"
   ]
  },
  {
   "cell_type": "code",
   "execution_count": null,
   "metadata": {},
   "outputs": [],
   "source": []
  },
  {
   "cell_type": "code",
   "execution_count": null,
   "metadata": {},
   "outputs": [],
   "source": []
  }
 ],
 "metadata": {
  "kernelspec": {
   "display_name": "Python 3",
   "language": "python",
   "name": "python3"
  },
  "language_info": {
   "codemirror_mode": {
    "name": "ipython",
    "version": 3
   },
   "file_extension": ".py",
   "mimetype": "text/x-python",
   "name": "python",
   "nbconvert_exporter": "python",
   "pygments_lexer": "ipython3",
   "version": "3.6.9"
  }
 },
 "nbformat": 4,
 "nbformat_minor": 4
}
