{
 "cells": [
  {
   "cell_type": "code",
   "execution_count": null,
   "metadata": {},
   "outputs": [],
   "source": [
    "import numpy as np\n",
    "import matplotlib.pyplot as plt\n",
    "import os\n",
    "import csv\n",
    "import argparse as ap\n",
    "from scipy.fftpack import fft\n",
    "from scipy.fftpack import fftfreq\n",
    "from scipy.stats import linregress as linregress\n",
    "import matplotlib.animation as manimation\n",
    "\n",
    "plt.rc('text', usetex=True)"
   ]
  },
  {
   "cell_type": "code",
   "execution_count": null,
   "metadata": {},
   "outputs": [],
   "source": [
    "data1 = np.genfromtxt(\"data/autoCorrTest11/size_0/autoCorr_10000.csv\", delimiter=',')\n",
    "data2 = np.genfromtxt(\"data/autoCorrTest11/size_1/autoCorr_10000.csv\", delimiter=',')\n",
    "data3 = np.genfromtxt(\"data/autoCorrTest11/size_2/autoCorr_10000.csv\", delimiter=',')\n",
    "data4 = np.genfromtxt(\"data/autoCorrTest11/size_3/autoCorr_10000.csv\", delimiter=',')\n",
    "for i in range(10100, 30000, 100):\n",
    "    data1 = data1 + np.genfromtxt(\"data/autoCorrTest11/size_0/autoCorr_{}.csv\".format(i), delimiter=',')\n",
    "    data2 = data2 + np.genfromtxt(\"data/autoCorrTest11/size_1/autoCorr_{}.csv\".format(i), delimiter=',')\n",
    "    data3 = data3 + np.genfromtxt(\"data/autoCorrTest11/size_2/autoCorr_{}.csv\".format(i), delimiter=',')\n",
    "    data4 = data4 + np.genfromtxt(\"data/autoCorrTest11/size_3/autoCorr_{}.csv\".format(i), delimiter=',')\n",
    "data1 = data1/100\n",
    "data2 = data2/100\n",
    "data3 = data3/100\n",
    "data4 = data4/100"
   ]
  },
  {
   "cell_type": "code",
   "execution_count": null,
   "metadata": {},
   "outputs": [],
   "source": []
  }
 ],
 "metadata": {
  "kernelspec": {
   "display_name": "Python 3",
   "language": "python",
   "name": "python3"
  },
  "language_info": {
   "codemirror_mode": {
    "name": "ipython",
    "version": 3
   },
   "file_extension": ".py",
   "mimetype": "text/x-python",
   "name": "python",
   "nbconvert_exporter": "python",
   "pygments_lexer": "ipython3",
   "version": "3.7.2"
  }
 },
 "nbformat": 4,
 "nbformat_minor": 2
}
