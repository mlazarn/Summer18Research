{
  "cells": [
    {
      "cell_type": "code",
      "execution_count": null,
      "metadata": {
        "collapsed": false
      },
      "outputs": [],
      "source": [
        "%matplotlib inline"
      ]
    },
    {
      "cell_type": "markdown",
      "metadata": {},
      "source": [
        "\n# Simple animation examples\n\n\nTwo animations where the first is a random walk plot and\nthe second is an image animation.\n\n"
      ]
    },
    {
      "cell_type": "code",
      "execution_count": null,
      "metadata": {
        "collapsed": false
      },
      "outputs": [],
      "source": [
        "import numpy as np\nimport matplotlib.pyplot as plt\nimport matplotlib.animation as animation\n\n\ndef update_line(num, data, line):\n    line.set_data(data[..., :num])\n    return line,"
      ]
    },
    {
      "cell_type": "code",
      "execution_count": null,
      "metadata": {
        "collapsed": false
      },
      "outputs": [],
      "source": [
        "fig1 = plt.figure()\n\n# Fixing random state for reproducibility\nnp.random.seed(19680801)\n\ndata = np.random.rand(2, 25)\nl, = plt.plot([], [], 'r-')\nplt.xlim(0, 1)\nplt.ylim(0, 1)\nplt.xlabel('x')\nplt.title('test')\nline_ani = animation.FuncAnimation(fig1, update_line, 25, fargs=(data, l),\n                                   interval=50, blit=True)\n\n# To save the animation, use the command: line_ani.save('lines.mp4')"
      ]
    },
    {
      "cell_type": "code",
      "execution_count": null,
      "metadata": {
        "collapsed": false
      },
      "outputs": [],
      "source": [
        "fig2 = plt.figure()\n\nx = np.arange(-9, 10)\ny = np.arange(-9, 10).reshape(-1, 1)\nbase = np.hypot(x, y)\nims = []\nfor add in np.arange(15):\n    ims.append((plt.pcolor(x, y, base + add, norm=plt.Normalize(0, 30)),))\n\nim_ani = animation.ArtistAnimation(fig2, ims, interval=50, repeat_delay=3000,\n                                   blit=True)\n# To save this second animation with some metadata, use the following command:\n# im_ani.save('im.mp4', metadata={'artist':'Guido'})\n\nplt.show()"
      ]
    }
  ],
  "metadata": {
    "kernelspec": {
      "display_name": "Python 3",
      "language": "python",
      "name": "python3"
    },
    "language_info": {
      "codemirror_mode": {
        "name": "ipython",
        "version": 3
      },
      "file_extension": ".py",
      "mimetype": "text/x-python",
      "name": "python",
      "nbconvert_exporter": "python",
      "pygments_lexer": "ipython3",
      "version": "3.6.4"
    }
  },
  "nbformat": 4,
  "nbformat_minor": 0
}