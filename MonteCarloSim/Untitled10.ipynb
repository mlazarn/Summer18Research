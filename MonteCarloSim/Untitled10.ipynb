{
 "cells": [
  {
   "cell_type": "code",
   "execution_count": 1,
   "metadata": {},
   "outputs": [],
   "source": [
    "import numpy as np\n",
    "import matplotlib.pyplot as plt\n",
    "import os\n",
    "import csv\n",
    "import argparse as ap\n",
    "\n",
    "from scipy.fftpack import fft\n",
    "from scipy.fftpack import fftfreq\n",
    "from scipy.signal import find_peaks as fpeaks\n",
    "\n",
    "plt.rc('text', usetex=True)"
   ]
  },
  {
   "cell_type": "code",
   "execution_count": 2,
   "metadata": {},
   "outputs": [],
   "source": [
    "def open_data(filename):\n",
    "    csv_data = np.genfromtxt(filename, dtype=int, delimiter=',')\n",
    "    return csv_data"
   ]
  },
  {
   "cell_type": "code",
   "execution_count": 3,
   "metadata": {},
   "outputs": [],
   "source": [
    "def calc_densities(lattice):\n",
    "    x_size, y_size = lattice.shape\n",
    "    #x_size = lattice.shape[0]\n",
    "    \n",
    "    a_pop = np.count_nonzero(lattice == 0, axis=0)\n",
    "    b_pop = np.count_nonzero(lattice == 1, axis=0)\n",
    "    c_pop = np.count_nonzero(lattice == 2, axis=0)\n",
    "    pop = a_pop + b_pop + c_pop\n",
    "    \n",
    "    densities = np.vstack((a_pop, b_pop, c_pop, pop))\n",
    "    # TODO:\n",
    "    # -sum up populations\n",
    "    # - divide by x_size\n",
    "    return densities / (x_size * 1.0)"
   ]
  },
  {
   "cell_type": "code",
   "execution_count": 4,
   "metadata": {},
   "outputs": [],
   "source": [
    "def calc_corr_function(lattice, spec, r_min, r_max, sub_d_squared):\n",
    "    x_size, y_size = lattice.shape\n",
    "    r_size = r_max - r_min\n",
    "    r_range = range(r_min, r_max)\n",
    "    densities = calc_densities(lattice)\n",
    "    \n",
    "    corr = np.zeros((r_size, y_size))\n",
    "    for r in r_range:\n",
    "        corr_r = np.zeros(y_size)\n",
    "        for i in range(x_size):\n",
    "            target_index = i + r\n",
    "            if (target_index > 0):\n",
    "                target_index = target_index % x_size\n",
    "            corr_xr = (lattice[i,:] == spec) & (lattice[target_index,:] == spec)\n",
    "            corr_r = corr_r + corr_xr.astype(int)\n",
    "        r_ind = r - r_min\n",
    "        \n",
    "        if (sub_d_squared):\n",
    "            np.put(corr[r_ind,:], range(r_size), (corr_r / (1.0 * x_size)) - (densities[spec,:]*densities[spec,:]))\n",
    "        else:\n",
    "            np.put(corr[r_ind,:], range(r_size), corr_r/(1.0 * x_size))\n",
    "    \n",
    "    return corr, r_range, densities"
   ]
  },
  {
   "cell_type": "code",
   "execution_count": 5,
   "metadata": {},
   "outputs": [
    {
     "data": {
      "text/plain": [
       "'/home/mlazarn/Research/Summer18Research/MonteCarloSim'"
      ]
     },
     "execution_count": 5,
     "metadata": {},
     "output_type": "execute_result"
    }
   ],
   "source": [
    "os.getcwd()\n",
    "#chdir(\"Research/Summer18Research/MonteCarloSim\")"
   ]
  },
  {
   "cell_type": "code",
   "execution_count": 6,
   "metadata": {},
   "outputs": [],
   "source": [
    "latt = open_data(\"data/dataRun_140420_0/rate_0/run_0/latt_5000.csv\")"
   ]
  },
  {
   "cell_type": "code",
   "execution_count": 7,
   "metadata": {},
   "outputs": [
    {
     "data": {
      "text/plain": [
       "array([0, 0, 0, 0, 0, 0, 0, 0, 0, 0, 0, 0, 0, 0, 0, 1, 1, 1, 0, 0, 0, 1,\n",
       "       0, 0, 0, 0, 0, 0, 0, 0, 0, 0, 0, 0, 0, 0, 0, 0, 0, 0, 0, 0, 0, 0,\n",
       "       0, 0, 0, 0, 0, 0, 0, 0, 1, 0, 0, 0, 0, 0, 0, 0, 0, 0, 0, 1, 0, 0,\n",
       "       0, 0, 0, 0, 0, 0, 0, 0, 0, 0, 0, 0, 0, 0, 0, 0, 0, 0, 0, 0, 0, 0,\n",
       "       0, 0, 0, 0, 0, 0, 0, 0, 0, 0, 0, 0, 0, 0, 0, 0, 0, 0, 0, 0, 0, 1,\n",
       "       0, 0, 1, 1, 1, 0, 1, 0, 0, 1, 1, 0, 1, 0, 0, 0, 0, 0, 0, 0, 0, 0,\n",
       "       0, 0, 0, 0, 0, 0, 0, 0, 0, 0, 0, 0, 0, 0, 0, 0, 0, 0, 0, 0, 0, 0,\n",
       "       1, 0, 0, 1, 1, 1, 1, 1, 1, 0, 1, 0, 0, 0, 0, 0, 0, 0, 0, 0, 0, 0,\n",
       "       0, 0, 0, 0, 0, 0, 0, 0, 0, 0, 0, 0, 0, 0, 0, 0, 0, 0, 0, 0, 0, 1,\n",
       "       0, 0, 0, 1, 1, 1, 1, 1, 1, 0, 1, 0, 0, 0, 0, 1, 0, 0, 0, 0, 0, 0,\n",
       "       0, 0, 0, 0, 0, 0, 0, 0, 0, 0, 0, 0, 0, 0, 0, 0, 0, 0, 0, 1, 1, 0,\n",
       "       0, 1, 1, 1, 1, 0, 1, 0, 0, 0, 0, 0, 0, 0, 0, 0, 0, 0, 0, 0, 0, 0,\n",
       "       0, 0, 0, 0, 0, 0, 0, 0, 0, 0, 0, 0, 0, 0, 0, 0, 0, 0, 0, 0, 0, 0,\n",
       "       1, 0, 0, 0, 0, 0, 0, 0, 0, 1, 0, 0, 0, 0, 1, 0, 1, 0, 1, 0, 0, 0,\n",
       "       1, 0, 0, 1, 0, 0, 0, 0, 0, 1, 0, 0, 1, 1, 1, 1, 1, 1, 1, 1, 1, 1,\n",
       "       1, 1, 0, 0, 0, 0, 0, 0, 0, 0, 0, 0, 0, 0, 0, 0, 0, 0, 0, 0, 0, 0,\n",
       "       0, 0, 0, 0, 0, 0, 0, 0, 0, 0, 0, 0, 0, 0, 0, 0, 0, 0, 0, 0, 0, 0,\n",
       "       0, 0, 0, 0, 0, 0, 0, 0, 0, 0, 0, 0, 0, 0, 0, 0, 0, 0, 0, 0, 0, 0,\n",
       "       0, 0, 0, 0, 0, 0, 0, 0, 0, 0, 0, 0, 0, 0, 0, 1, 0, 0, 0, 0, 0, 0,\n",
       "       0, 0, 0, 0, 1, 0, 0, 0, 1, 1, 1, 0, 1, 0, 0, 0, 1, 1, 1, 0, 0, 0,\n",
       "       0, 0, 0, 0, 0, 0, 0, 0, 0, 0, 0, 0, 0, 0, 0, 0, 0, 0, 0, 0, 0, 0,\n",
       "       0, 0, 1, 0, 1, 1, 0, 1, 1, 1, 0, 0, 1, 1, 1, 0, 0, 1, 0, 1, 0, 0,\n",
       "       0, 0, 0, 0, 0, 0, 0, 0, 0, 0, 0, 0, 0, 0, 0, 0, 0, 0, 0, 0, 0, 0,\n",
       "       0, 0, 0, 0, 0, 0])"
      ]
     },
     "execution_count": 7,
     "metadata": {},
     "output_type": "execute_result"
    }
   ],
   "source": [
    "corr_0 = (latt[0,:] == 0) & (latt[-1,:] == 0)\n",
    "corr_0.astype(int)"
   ]
  },
  {
   "cell_type": "code",
   "execution_count": 8,
   "metadata": {},
   "outputs": [],
   "source": [
    "den = calc_densities(latt)"
   ]
  },
  {
   "cell_type": "markdown",
   "metadata": {},
   "source": [
    "corr_a = np.zeros((511, y_size))\n",
    "corr_a_subbed = np.zeros((511, y_size))\n",
    "for r in range(-255, 256):\n",
    "    corr_r = np.zeros(y_size)\n",
    "    for i in range(x_size):\n",
    "        target_index = i + r\n",
    "        if (target_index > 0):\n",
    "            target_index = target_index % x_size\n",
    "        corr_xr = (latt[i,:] == 0) & (latt[target_index,:] == 0)\n",
    "        corr_r = corr_r + corr_xr.astype(int)\n",
    "    r_ind = r + 255\n",
    "    np.put(corr_a[r_ind,:], range(512), corr_r/(1.0 * x_size))\n",
    "    np.put(corr_a_subbed[r_ind,:], range(512), (corr_r / (1.0 * x_size)) - (den[0,:]*den[0,:]))\n",
    "\n",
    "#a_pop = np.count_nonzero(latt == 0, axis=0)\n",
    "#print((corr_a[0,:])"
   ]
  },
  {
   "cell_type": "code",
   "execution_count": 9,
   "metadata": {},
   "outputs": [],
   "source": [
    "r = range(-255, 256)"
   ]
  },
  {
   "cell_type": "markdown",
   "metadata": {},
   "source": [
    "fig1, ax1 = plt.subplots(facecolor=\"white\")\n",
    "ax1.plot(r, corr_a.T[32,:], label=r\"y = 32\")\n",
    "ax1.plot(r, corr_a.T[64,:], label=r\"y = 64\")\n",
    "ax1.plot(r, corr_a.T[256,:], label=r\"y = 256\")\n",
    "\n",
    "ax1.axvline(20, linestyle='--', color='k')\n",
    "#ax1.set_xlabel(r'$r$')\n",
    "#ax1.set_ylabel(r'$C(r)$')"
   ]
  },
  {
   "cell_type": "markdown",
   "metadata": {},
   "source": [
    "fig2, ax2 = plt.subplots(facecolor=\"white\")\n",
    "ax2.plot(r, corr_a_subbed.T[32,:], label=r\"y = 32\")\n",
    "ax2.plot(r, corr_a_subbed.T[64,:], label=r\"y = 64\")\n",
    "ax2.plot(r, corr_a_subbed.T[256,:], label=r\"y = 256\")\n",
    "\n",
    "ax2.axvline(20, linestyle='--', color='k')\n",
    "ax2.axhline(0, linestyle='--', color='k')\n",
    "#ax1.set_xlabel(r'$r$')\n",
    "#ax1.set_ylabel(r'$C(r)$')"
   ]
  },
  {
   "cell_type": "markdown",
   "metadata": {},
   "source": [
    "corr_b, r, d = calc_corr_function(latt, 1, -255, 256, False)\n",
    "corr_b_subbed  = calc_corr_function(latt, 1, -255, 256, True)[0]"
   ]
  },
  {
   "cell_type": "markdown",
   "metadata": {},
   "source": [
    "corr_b.shape"
   ]
  },
  {
   "cell_type": "markdown",
   "metadata": {},
   "source": [
    "fig3, ax3 = plt.subplots(facecolor=\"white\")\n",
    "ax3.plot(r, corr_b.T[32,:], label=r\"y = 32\")\n",
    "ax3.plot(r, corr_b.T[64,:], label=r\"y = 64\")\n",
    "ax3.plot(r, corr_b.T[256,:], label=r\"y = 256\")\n",
    "\n",
    "ax3.axvline(20, linestyle='--', color='k')\n",
    "ax3.set_xlabel(r'$r$')\n",
    "ax3.set_ylabel(r'$C(r)$')"
   ]
  },
  {
   "cell_type": "markdown",
   "metadata": {},
   "source": [
    "fig4, ax4 = plt.subplots(facecolor=\"white\")\n",
    "ax4.plot(r, corr_b_subbed.T[32,:], label=r\"y = 32\")\n",
    "ax4.plot(r, corr_b_subbed.T[64,:], label=r\"y = 64\")\n",
    "ax4.plot(r, corr_b_subbed.T[256,:], label=r\"y = 256\")\n",
    "\n",
    "ax4.axvline(20, linestyle='--', color='k')\n",
    "ax4.axhline(0, linestyle='--', color='k')\n",
    "ax4.set_xlabel(r'$r$')\n",
    "ax4.set_ylabel(r'$C(r)$')"
   ]
  },
  {
   "cell_type": "code",
   "execution_count": 15,
   "metadata": {},
   "outputs": [
    {
     "data": {
      "text/plain": [
       "(301, 512)"
      ]
     },
     "execution_count": 15,
     "metadata": {},
     "output_type": "execute_result"
    }
   ],
   "source": [
    "min_r = -1\n",
    "max_r = 300\n",
    "corr_avg = np.zeros((max_r - min_r,512))\n",
    "t_min = 5000\n",
    "t_max = t_min + 32\n",
    "r_range = np.zeros(max_r - min_r)\n",
    "\n",
    "t_size = t_max - t_min\n",
    "prefix = \"data/dataRun_140420_0/rate_0/run_0/latt_\"\n",
    "spec = 0\n",
    "\n",
    "sub_d_squared = True\n",
    "\n",
    "corr_avg.shape"
   ]
  },
  {
   "cell_type": "code",
   "execution_count": 16,
   "metadata": {},
   "outputs": [
    {
     "name": "stdout",
     "output_type": "stream",
     "text": [
      "5000\n",
      "(301, 512)\n",
      "5001\n",
      "(301, 512)\n",
      "5002\n",
      "(301, 512)\n",
      "5003\n",
      "(301, 512)\n",
      "5004\n",
      "(301, 512)\n",
      "5005\n",
      "(301, 512)\n",
      "5006\n",
      "(301, 512)\n",
      "5007\n",
      "(301, 512)\n",
      "5008\n",
      "(301, 512)\n",
      "5009\n",
      "(301, 512)\n",
      "5010\n",
      "(301, 512)\n",
      "5011\n",
      "(301, 512)\n",
      "5012\n",
      "(301, 512)\n",
      "5013\n",
      "(301, 512)\n",
      "5014\n",
      "(301, 512)\n",
      "5015\n",
      "(301, 512)\n",
      "5016\n",
      "(301, 512)\n",
      "5017\n",
      "(301, 512)\n",
      "5018\n",
      "(301, 512)\n",
      "5019\n",
      "(301, 512)\n",
      "5020\n",
      "(301, 512)\n",
      "5021\n",
      "(301, 512)\n",
      "5022\n",
      "(301, 512)\n",
      "5023\n",
      "(301, 512)\n",
      "5024\n",
      "(301, 512)\n",
      "5025\n",
      "(301, 512)\n",
      "5026\n",
      "(301, 512)\n",
      "5027\n",
      "(301, 512)\n",
      "5028\n",
      "(301, 512)\n",
      "5029\n",
      "(301, 512)\n",
      "5030\n",
      "(301, 512)\n",
      "5031\n",
      "(301, 512)\n",
      "(301, 512)\n"
     ]
    }
   ],
   "source": [
    "for t in range(t_min, t_max):\n",
    "    print(t)\n",
    "    fname = prefix + str(t) + \".csv\"\n",
    "    latt0 = open_data(fname)\n",
    "    \n",
    "    #den0 = calc_densities(latt0)\n",
    "    \n",
    "    corr_t, r_range, densities = calc_corr_function(latt0, spec, min_r, max_r, sub_d_squared)\n",
    "    print(corr_t.shape)\n",
    "    #check = np.count_nonzero(corr_t.T[256,:] == corr_a_subbed[256,:])\n",
    "    #corr_t = calc_corr_function(open_data(fname), den0, spec, r_min, r_max, sub_d_squared)[0]\n",
    "\n",
    "    corr_avg = corr_avg + corr_t\n",
    "    \n",
    "corr_avg = corr_avg / (t_size * 1.0)\n",
    "print(corr_avg.shape)"
   ]
  },
  {
   "cell_type": "code",
   "execution_count": 20,
   "metadata": {},
   "outputs": [
    {
     "data": {
      "text/plain": [
       "Text(0, 0.5, '$C(r)$')"
      ]
     },
     "execution_count": 20,
     "metadata": {},
     "output_type": "execute_result"
    },
    {
     "data": {
      "image/png": "[encoded data removed]",
      "text/plain": [
       "<Figure size 432x288 with 1 Axes>"
      ]
     },
     "metadata": {},
     "output_type": "display_data"
    }
   ],
   "source": [
    "r = r_range\n",
    "fig5, ax5 = plt.subplots(facecolor=\"white\")\n",
    "ax5.plot(r[:], corr_avg.T[80,:], label=r\"y = 256\")\n",
    "#ax5.plot(r[:], corr_avg.T[32,:], label=r\"y = 32\")\n",
    "#ax5.plot(r[:], corr_avg.T[64,:], label=r\"y = 64\")\n",
    "\n",
    "\n",
    "#ax5.axvline(20, linestyle='--', color='k')\n",
    "ax5.axhline(0, linestyle='--', color='k')\n",
    "ax5.set_xlabel(r'$r$')\n",
    "ax5.set_ylabel(r'$C(r)$')"
   ]
  },
  {
   "cell_type": "code",
   "execution_count": null,
   "metadata": {},
   "outputs": [],
   "source": [
    "print(r[25])"
   ]
  },
  {
   "cell_type": "markdown",
   "metadata": {},
   "source": [
    "fig6, ax6 = plt.subplots(facecolor=\"white\")\n",
    "#ax6.plot(r, corr_b_subbed.T[256,:], label=r\"y = 256\")\n",
    "#ax6.plot(r, corr_avg.T[256,:], label=r\"y = 256\")\n",
    "ax6.plot(r, corr_diff.T[256,:], label=r\"y = 256\")\n",
    "\n",
    "ax6.axhline(0, linestyle='--', color='k')\n"
   ]
  },
  {
   "cell_type": "code",
   "execution_count": null,
   "metadata": {},
   "outputs": [],
   "source": [
    "corr_a0, r_range, d  = calc_corr_function(open_data(prefix + \"5000.csv\"), 0, -255, 256, True)\n",
    "corr_a1  = calc_corr_function(open_data(prefix + \"6000.csv\"), 0, -255, 256, True)[0]\n",
    "diff = np.abs(corr_a0 - corr_a1)"
   ]
  },
  {
   "cell_type": "code",
   "execution_count": null,
   "metadata": {},
   "outputs": [],
   "source": [
    "fig7, ax7 = plt.subplots(facecolor=\"white\")\n",
    "#ax6.plot(r, corr_b_subbed.T[256,:], label=r\"y = 256\")\n",
    "#ax6.plot(r, corr_avg.T[256,:], label=r\"y = 256\")\n",
    "ax7.plot(r_range, diff.T[256,:], label=r\"y = 256\")\n",
    "print(np.max(diff))\n",
    "ax7.axhline(0, linestyle='--', color='k')"
   ]
  },
  {
   "cell_type": "code",
   "execution_count": null,
   "metadata": {},
   "outputs": [],
   "source": []
  }
 ],
 "metadata": {
  "kernelspec": {
   "display_name": "Python 3",
   "language": "python",
   "name": "python3"
  },
  "language_info": {
   "codemirror_mode": {
    "name": "ipython",
    "version": 3
   },
   "file_extension": ".py",
   "mimetype": "text/x-python",
   "name": "python",
   "nbconvert_exporter": "python",
   "pygments_lexer": "ipython3",
   "version": "3.6.9"
  }
 },
 "nbformat": 4,
 "nbformat_minor": 4
}
