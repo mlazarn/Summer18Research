{
 "cells": [
  {
   "cell_type": "code",
   "execution_count": 1,
   "metadata": {},
   "outputs": [],
   "source": [
    "import numpy as np\n",
    "import matplotlib.pyplot as plt\n",
    "import os\n",
    "import csv\n",
    "import argparse as ap\n",
    "from scipy.fftpack import fft\n",
    "from scipy.fftpack import fftfreq\n",
    "from scipy.stats import linregress as linregress\n",
    "from scipy.signal import find_peaks as fpeaks\n",
    "from scipy.signal import peak_widths as peak_widthse\n",
    "from scipy.fftpack import fftshift\n",
    "from scipy import interpolate as spInt\n",
    "import matplotlib.animation as manimation\n",
    "\n",
    "plt.rc('text', usetex=True)"
   ]
  },
  {
   "cell_type": "code",
   "execution_count": 4,
   "metadata": {},
   "outputs": [],
   "source": [
    "latt = np.genfromtxt(\"data/multiData1/rate_0/run_0/latt_3995.csv\", delimiter=',', dtype=int)"
   ]
  },
  {
   "cell_type": "code",
   "execution_count": 6,
   "metadata": {},
   "outputs": [],
   "source": [
    "def density(latt, spec, col):\n",
    "    sum = 0\n",
    "    for i in range(0, 512):\n",
    "        if latt[i,col] == spec:\n",
    "            sum += 1\n",
    "    return sum / 512.0"
   ]
  },
  {
   "cell_type": "code",
   "execution_count": null,
   "metadata": {},
   "outputs": [],
   "source": [
    "def auto_correlator(latt, col, r, mode):\n",
    "    d = density(latt, 0, col)\n",
    "    sum = 0\n",
    "    for i in range(0, 512):\n",
    "        if "
   ]
  }
 ],
 "metadata": {
  "kernelspec": {
   "display_name": "Python 3",
   "language": "python",
   "name": "python3"
  },
  "language_info": {
   "codemirror_mode": {
    "name": "ipython",
    "version": 3
   },
   "file_extension": ".py",
   "mimetype": "text/x-python",
   "name": "python",
   "nbconvert_exporter": "python",
   "pygments_lexer": "ipython3",
   "version": "3.7.3"
  }
 },
 "nbformat": 4,
 "nbformat_minor": 2
}
